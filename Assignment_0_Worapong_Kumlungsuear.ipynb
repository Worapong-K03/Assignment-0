{
  "nbformat": 4,
  "nbformat_minor": 0,
  "metadata": {
    "colab": {
      "provenance": []
    },
    "kernelspec": {
      "name": "python3",
      "display_name": "Python 3"
    },
    "language_info": {
      "name": "python"
    }
  },
  "cells": [
    {
      "cell_type": "markdown",
      "source": [
        "# Assignment 0\n"
      ],
      "metadata": {
        "id": "5J24pL3TGZwJ"
      }
    },
    {
      "cell_type": "markdown",
      "source": [
        "1.\tConsider a sequence of n Bernoulli trials with success probabilty p per trial. A string of consecutive successes is known as a success run. Write a function that returns the counts for runs of length k for each k observed in a dictionary."
      ],
      "metadata": {
        "id": "zszlZdI5GWih"
      }
    },
    {
      "cell_type": "code",
      "source": [
        "import numpy as np\n",
        "from collections import Counter\n",
        "\n",
        "def count_runs(lists):\n",
        "    return Counter(map(len, filter(None, ''.join(map(str, lists)).split('0'))))\n",
        "\n",
        "# Example usage\n",
        "lists = [0, 1, 0, 1, 1, 0, 0, 0, 0, 1]\n",
        "print(count_runs(lists))\n",
        "\n",
        "# For a random large binary sequence\n",
        "\n",
        "random_lists = np.random.randint(0, 2, 1000000)\n",
        "count_runs(random_lists)\n"
      ],
      "metadata": {
        "colab": {
          "base_uri": "https://localhost:8080/"
        },
        "id": "f1WOBOFjLZon",
        "outputId": "e1ae466f-4d2b-4569-debd-0c96b83a8e14"
      },
      "execution_count": null,
      "outputs": [
        {
          "output_type": "stream",
          "name": "stdout",
          "text": [
            "Counter({1: 2, 2: 1})\n"
          ]
        },
        {
          "output_type": "execute_result",
          "data": {
            "text/plain": [
              "Counter({2: 62748,\n",
              "         1: 125699,\n",
              "         3: 31050,\n",
              "         4: 15717,\n",
              "         8: 913,\n",
              "         9: 520,\n",
              "         5: 7769,\n",
              "         6: 3811,\n",
              "         10: 244,\n",
              "         7: 1954,\n",
              "         12: 61,\n",
              "         11: 94,\n",
              "         13: 29,\n",
              "         14: 10,\n",
              "         17: 2,\n",
              "         15: 6,\n",
              "         16: 7,\n",
              "         18: 1})"
            ]
          },
          "metadata": {},
          "execution_count": 28
        }
      ]
    },
    {
      "cell_type": "markdown",
      "source": [
        "2.\tContinuing from Part 1, what is the probability of observing at least one run of length 5 or more when n=100 and p=0.5?. Estimate this from 100,000 simulated experiments. Is this more, less or equally likely than finding runs of length 7 or more when p=0.7 ?"
      ],
      "metadata": {
        "id": "a6F6eizxLWNP"
      }
    },
    {
      "cell_type": "code",
      "source": [
        "def count_runs(sequence):\n",
        "    return Counter(map(len, filter(None, ''.join(map(str, sequence)).split('0'))))\n",
        "\n",
        "def run_prob(expts, n, k, p):\n",
        "    return sum(any(r >= k for r in count_runs(np.random.choice([0, 1], n, p=[1-p, p]))) for _ in range(expts)) / expts\n",
        "\n",
        "# Example usage\n",
        "print(run_prob(100000, 100, 5, 0.5))\n",
        "print(run_prob(100000, 100, 7, 0.7))"
      ],
      "metadata": {
        "colab": {
          "base_uri": "https://localhost:8080/"
        },
        "id": "xX-l_26kLaSv",
        "outputId": "bafdbe82-30b1-4be8-a48b-394ec814eb81"
      },
      "execution_count": null,
      "outputs": [
        {
          "output_type": "stream",
          "name": "stdout",
          "text": [
            "0.80949\n",
            "0.94782\n"
          ]
        }
      ]
    }
  ]
}